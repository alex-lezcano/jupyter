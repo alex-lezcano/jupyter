{
  "nbformat": 4,
  "nbformat_minor": 0,
  "metadata": {
    "colab": {
      "name": "Leccion 2 - Hola Mundo.ipynb",
      "version": "0.3.2",
      "provenance": [],
      "collapsed_sections": []
    },
    "kernelspec": {
      "name": "python3",
      "display_name": "Python 3"
    }
  },
  "cells": [
    {
      "metadata": {
        "id": "XBG4p596gpHk",
        "colab_type": "text"
      },
      "cell_type": "markdown",
      "source": [
        "# Lección 2: Hola Mundo!\n",
        "Python es un lenguaje bastante simple con una sintaxis muy sencilla. Existen dos grandes versiones de Python, Python 2 y Python 3, nosotros estaremos programando en Python 3, pero ocacionalmente veremos ejemplos de código en Python 2.\n",
        "\n",
        "¿Recuerdas como en la última lección de la **Fase 1** aprendimos qué son las funciones? Pues Python tiene sus propias funciones que existen para facilitarnos la vida, y  **print()** es una de ellas. Esta función recibe como *parámetro* algo queremos mostrar en pantalla. Dale click en ejecutar al código de abajo para imprimir el mensaje!\n"
      ]
    },
    {
      "metadata": {
        "id": "aNvcTnSfmzJ4",
        "colab_type": "code",
        "colab": {}
      },
      "cell_type": "code",
      "source": [
        "print(\"Hola Mundo!\")"
      ],
      "execution_count": 0,
      "outputs": []
    },
    {
      "metadata": {
        "id": "Qg-o-lJfrV4i",
        "colab_type": "text"
      },
      "cell_type": "markdown",
      "source": [
        "## Variables, Sentencias y Comentarios\n",
        "En la **Fase 1** aprendimos que un algoritmo es una lista de intrucciones, a estas intrucciones las llamamos **sentencias**, un ejemplo de sentencia es el print() de más arriba:\n",
        "\n",
        "```\n",
        "print(\"Hola Mundo\")\n",
        "```\n",
        "Otro tipo de sentencia es la declaración de una **variable**:\n",
        "\n",
        "\n",
        "\n",
        "\n"
      ]
    },
    {
      "metadata": {
        "id": "g92haNzc6SXw",
        "colab_type": "code",
        "colab": {}
      },
      "cell_type": "code",
      "source": [
        "nombre = \"María\"\n",
        "print(nombre)\n",
        "\n",
        "# Esto es un comentario, los comentarios sirven para aclarar partes de nuestro\n",
        "# codigo, es una manera de documentar tu programa para que cualquier persona al \n",
        "# rededor del mundo pueda leer y entender lo que hiciste!"
      ],
      "execution_count": 0,
      "outputs": []
    },
    {
      "metadata": {
        "id": "ED7WvPYC6aPG",
        "colab_type": "text"
      },
      "cell_type": "markdown",
      "source": [
        "Aquí declaramos la variable * nombre*, y le asignamos el valor *\"María\"*. Una variable es algo que almacena un valor, en python este valor puede ser de diferentes tipos, numeros, palabras, listas, en la siguiente sección veremos esto en más detalle. "
      ]
    },
    {
      "metadata": {
        "id": "yMwbAGIMq0kD",
        "colab_type": "text"
      },
      "cell_type": "markdown",
      "source": [
        "## Tipos de Datos\n",
        "### Números\n",
        "Tenemos los tipos llamados \"integer\" o \"int\" para representar números enteros y los \"Float\" para representar a los decimales (números con coma):"
      ]
    },
    {
      "metadata": {
        "id": "7jm3fX9L64Bk",
        "colab_type": "code",
        "colab": {}
      },
      "cell_type": "code",
      "source": [
        "# Ejemplo de una operación con números enteros:\n",
        "manzana = 2\n",
        "bananas = 5\n",
        "frutas = manzana + bananas\n",
        "print(\"El numero total de frutas es: \")\n",
        "print(frutas)\n",
        "\n",
        "# Ejemplo de una operación con números decimales:\n",
        "fer = 75.4\n",
        "luz = 65.5\n",
        "peso_total = fer + luz\n",
        "print(\"El peso total de Fer y Luz es: \")\n",
        "print(peso_total)\n"
      ],
      "execution_count": 0,
      "outputs": []
    },
    {
      "metadata": {
        "id": "ma0lCRWq9sSD",
        "colab_type": "text"
      },
      "cell_type": "markdown",
      "source": [
        "También podemos hacer asiganaciones a una variable en la misma línea de esta manera: "
      ]
    },
    {
      "metadata": {
        "id": "rAezhVGh-CBp",
        "colab_type": "code",
        "colab": {}
      },
      "cell_type": "code",
      "source": [
        "a, b = 1, 5 # aqui a = 1 y  b = 5\n",
        "print(a - b)"
      ],
      "execution_count": 0,
      "outputs": []
    },
    {
      "metadata": {
        "id": "2YJdvr2f7oDH",
        "colab_type": "text"
      },
      "cell_type": "markdown",
      "source": [
        "En Python podemos ver el tipo de dato de una variable con la funcion **type()**"
      ]
    },
    {
      "metadata": {
        "id": "eo5C2Ln07uu-",
        "colab_type": "code",
        "outputId": "196aab25-2cac-46c2-fa1f-ef237e033bac",
        "colab": {
          "base_uri": "https://localhost:8080/",
          "height": 69
        }
      },
      "cell_type": "code",
      "source": [
        "a = 2.9854\n",
        "# imprime que a es del tipo 'float'\n",
        "print(\"La variable a es del tipo: \",type(a)) \n",
        "\n",
        "b = 9565\n",
        "# imprime que b es del tipo 'int'\n",
        "print(\"La variable b es del tipo: \",type(b)) \n",
        "\n",
        "c = \"Aguacate\"\n",
        "# imprime que c es del tipo 'string'\n",
        "print(\"La variable c es del tipo: \",type(c)) "
      ],
      "execution_count": 0,
      "outputs": [
        {
          "output_type": "stream",
          "text": [
            "La variable a es del tipo:  <class 'float'>\n",
            "La variable b es del tipo:  <class 'int'>\n",
            "La variable c es del tipo:  <class 'str'>\n"
          ],
          "name": "stdout"
        }
      ]
    },
    {
      "metadata": {
        "id": "8rCw-SY4AWU5",
        "colab_type": "text"
      },
      "cell_type": "markdown",
      "source": [
        "#### Operaciones Matemáticas\n",
        "Para realizar operaciones tales como división, suma, substracción y multiplicación utilizamos los **Operadores Aritméticos** :\n",
        "\n",
        "| Operador | Descripción   | Sintaxis|\n",
        "|------|------|-----|\n",
        "|  +   |Suma  | x + y|\n",
        "|  -   |Resta | x - y|\n",
        "|  *   |Multiplicación | x * y|\n",
        "|  /   |División de punto flotante, retorna un punto flotante si la división es inexacta| x / y|\n",
        "|  //   |División, el resultado de la división es redondeado hacia 0 | x // y|\n",
        "|  %   |Módulo, retorna el resto de una división | x % y|\n",
        "|  **   |Potencia, eleva x a la potencia de y | x ** y|"
      ]
    },
    {
      "metadata": {
        "id": "rkO8UPXqAblx",
        "colab_type": "code",
        "colab": {}
      },
      "cell_type": "code",
      "source": [
        "print(5 + 10)\n",
        "print(3 * 7, (17 - 2) * 8) # imprimimos dos operaciones diferentes \n",
        "print(2 ** 16) # dos asteriscos se usan para la exponenciación (2 a la 16)\n",
        "print(37 % 3)  # operador de módulo,da el resto de la division\n",
        "print(37 / 3)  # solo una barra inclinada es una división \n",
        "print(37 // 3) # doble barra inclinada es una división entera"
      ],
      "execution_count": 0,
      "outputs": []
    },
    {
      "metadata": {
        "id": "_k38XG-5U1dL",
        "colab_type": "text"
      },
      "cell_type": "markdown",
      "source": [
        "#### Asignación Aumentada\n",
        "Muchas veces necesitamos redefinir una variable en función de sí misma, es decir, modificar el valor de esta variable y guardarlo, por ejemplo:\n",
        "\n",
        "sumar un número con si mismo y a la vez realizar otra operación así como esto:\n",
        "\n",
        "\n",
        "\n",
        "\n"
      ]
    },
    {
      "metadata": {
        "id": "OlN4zcQYWeT8",
        "colab_type": "code",
        "colab": {}
      },
      "cell_type": "code",
      "source": [
        "x = 6\n",
        "x = x + 8\n",
        "print(x)"
      ],
      "execution_count": 0,
      "outputs": []
    },
    {
      "metadata": {
        "id": "M9CyhY8uWrqL",
        "colab_type": "text"
      },
      "cell_type": "markdown",
      "source": [
        "La última línea de código puede escribirse de una manera más corta: "
      ]
    },
    {
      "metadata": {
        "id": "2fGjXkJPWswr",
        "colab_type": "code",
        "colab": {}
      },
      "cell_type": "code",
      "source": [
        "x = 6\n",
        "x += 8 # equivalente a x = x + 8\n",
        "print(x)"
      ],
      "execution_count": 0,
      "outputs": []
    },
    {
      "metadata": {
        "id": "tWAOR9BaVZTW",
        "colab_type": "text"
      },
      "cell_type": "markdown",
      "source": [
        "A esto se le llama **Asignación Aumentada**, podemos expresar todas las operaciones matemáticas de esta manera:\n",
        "\n",
        "\n",
        "```\n",
        "x += y    ( x = x + y )\n",
        "x −= y    ( x = x - y )\n",
        "x *= y    ( x = x * y )\n",
        "x **= y   ( x = x ** y )\n",
        "x /= y    ( x = x / y )\n",
        "x //= y   ( x = x // y )\n",
        "x %= y    ( x = x % y )\n",
        "\n",
        "```\n",
        "\n"
      ]
    },
    {
      "metadata": {
        "id": "wbHScie1m4mY",
        "colab_type": "text"
      },
      "cell_type": "markdown",
      "source": [
        "### String\n",
        "Un string o cadena es una serie de letras, números o símbolos concatenados. Los strings o cadenas pueden ser definidos de varias maneras:\n"
      ]
    },
    {
      "metadata": {
        "id": "ha-Ze4rOvh15",
        "colab_type": "code",
        "colab": {}
      },
      "cell_type": "code",
      "source": [
        "print(\"Soy una cadena con comillas dobles\")\n",
        "print('Cadena con comillas simples')\n",
        "print(\"Puedes unir dos string\"+\" de esta manera\")"
      ],
      "execution_count": 0,
      "outputs": []
    },
    {
      "metadata": {
        "id": "7sUA7i78wC74",
        "colab_type": "text"
      },
      "cell_type": "markdown",
      "source": [
        "#### Manejando Errores\n",
        "Mientras aprendemos a programar en Pyhton, nos encontraremos con errores y excepciones, esto pasa cuando Python no entiende lo que nosotros queremos hacer. Es un buen habito leer, traducir y entender las excepciones para poder solucionarlos. Estos son algunos errores comunes al imprimir cadenas, puedes encontrarlos?"
      ]
    },
    {
      "metadata": {
        "id": "QWfFi5SizQTm",
        "colab_type": "code",
        "colab": {}
      },
      "cell_type": "code",
      "source": [
        "print(\"Salimos a comer helado')"
      ],
      "execution_count": 0,
      "outputs": []
    },
    {
      "metadata": {
        "id": "DsURKb8pz04f",
        "colab_type": "text"
      },
      "cell_type": "markdown",
      "source": [
        "Si ejecutas el código de arriba verás este error \"SyntaxError: EOL while scanning string literal\" Pyhton esto quiere decir que Python estaba leyendo el string cuando repentinamente llega al final de la línea o en inglés \"End Of Line\". Esto pasó porque empezamos nuestra cadena con comillas dobles y la terminamos con comillas simples! "
      ]
    },
    {
      "metadata": {
        "id": "af2LNv0i2FVF",
        "colab_type": "code",
        "colab": {}
      },
      "cell_type": "code",
      "source": [
        "print(Hizo mucho calor hoy)"
      ],
      "execution_count": 0,
      "outputs": []
    },
    {
      "metadata": {
        "id": "0tEfBGwF2LfM",
        "colab_type": "text"
      },
      "cell_type": "markdown",
      "source": [
        "Ahora esta sentencia nos tira un error \"SyntaxError: invalid syntax\" La sintaxis es inválida porque el tipo de dato String debe estar entre comillas siempre!\n",
        "\n",
        "Existen muchos más tipos de datos, pero por ahora nos quedaremos con estos para simplificar las cosas.\n"
      ]
    },
    {
      "metadata": {
        "id": "w3RZPoRU-WzI",
        "colab_type": "text"
      },
      "cell_type": "markdown",
      "source": [
        "## Entrada y Salida de Datos\n",
        "\n",
        "Nuestro programa puede solicitar información o datos al usuario, un *input* o *entrada*, realizar alguna operación y luego devolver un resultado, un *output* o *salida*"
      ]
    },
    {
      "metadata": {
        "id": "fPC0jN__Ggj_",
        "colab_type": "code",
        "colab": {}
      },
      "cell_type": "code",
      "source": [
        "# En Python2: \n",
        "# print(\"Escribe tu nombre y aprieta enter:\")\n",
        "# nombre = raw_input() #recibe informacion del usuario y la guarda en la variable nombre\n",
        "# print(\"Hola \"+ nombre +\"!\")\n",
        "\n",
        "# En Python3: \n",
        "print(\"Escribe tu nombre y aprieta enter:\")\n",
        "nombre = input() #recibe informacion del usuario y la guarda en la variable nombre\n",
        "print(\"Hola \"+ nombre +\"!\")"
      ],
      "execution_count": 0,
      "outputs": []
    },
    {
      "metadata": {
        "id": "w8rZgg8olgnp",
        "colab_type": "text"
      },
      "cell_type": "markdown",
      "source": [
        "En este caso podemos observar que el input es cualquier cosa que tu escribas, en el cuadradito blanco de abajo, y tu output es el saludo. \n",
        "\n",
        "**Input()** Es una *función de Python* que recibe como parámetro un string con un mensaje para el usuario, y permite la entrada de datos, esta entrada será de tipo string. Entonces, podemos acortar nuestro código, dándole parámetros a nuestra función input:"
      ]
    },
    {
      "metadata": {
        "id": "Z8ugKb9WnG_B",
        "colab_type": "code",
        "colab": {}
      },
      "cell_type": "code",
      "source": [
        "#recibe informacion del usuario y la guarda en la variable nombre\n",
        "nombre = input(\"Escribe tu nombre y aprieta enter: \") \n",
        "print(\"Hola \"+ nombre +\"!\")"
      ],
      "execution_count": 0,
      "outputs": []
    },
    {
      "metadata": {
        "id": "axh9jsSrwbcS",
        "colab_type": "text"
      },
      "cell_type": "markdown",
      "source": [
        "Podemos realizar operaciones con los valores recogidos por el input(), pero recuerda que el tipo de data ingresado será string. Por ejemplo, hallar el área de un cuadrado, deberiamos convertir el tipo string a tipo int, afortunadamente Python también cuenta con una función para esto, la función **int()** recibe como parámetro un tipo de dato, como string o float y lo convierte a integer! En el ejemplo de abajo recibimos un string de nuestra función input(), y lo guardamos en la variable lado, en la siguiente línea, primero convertimos el string lado en un número entero, luego lo elevamos al cuadrado, finalmente imprimimos el valor guardado en area para mostrar nuestro resultado:"
      ]
    },
    {
      "metadata": {
        "id": "2xxLoJYowoNs",
        "colab_type": "code",
        "colab": {}
      },
      "cell_type": "code",
      "source": [
        "# obtengo el lado del cuadrado\n",
        "lado = input(\"Ingresa el lado de un cuadrado: \")\n",
        "\n",
        "# primero convierto el string lado en un integer, luego lo elevo al cuadrado\n",
        "area = int(lado)**2 \n",
        "\n",
        "# imprimo el resultado en pantalla\n",
        "print(area)    "
      ],
      "execution_count": 0,
      "outputs": []
    },
    {
      "metadata": {
        "id": "Jc1ihpUg0qt7",
        "colab_type": "text"
      },
      "cell_type": "markdown",
      "source": [
        "Aqui puedes ver que es posible concatenar varias funciones en una sola línea de código, si quisieramos hacer algo más loco podriamos hacer esto:"
      ]
    },
    {
      "metadata": {
        "id": "4JdNihAJ0y6b",
        "colab_type": "code",
        "colab": {}
      },
      "cell_type": "code",
      "source": [
        "print(int(input(\"Ingresa el lado de un cuadrado: \"))**2)"
      ],
      "execution_count": 0,
      "outputs": []
    },
    {
      "metadata": {
        "id": "sT1hOr3i1KHp",
        "colab_type": "text"
      },
      "cell_type": "markdown",
      "source": [
        "Como puedes ver,  una función puede recibir como parámetro a otra función, y así sucesibamente. El ejemplo de arriba es simplemente para ilustrar que esto es posible, pero** no es una buena práctica de programación**, ya que hace que tu código sea más difícil de entender y leer."
      ]
    },
    {
      "metadata": {
        "id": "77Jm67JM8Lgg",
        "colab_type": "text"
      },
      "cell_type": "markdown",
      "source": [
        "\n",
        "\n",
        "---\n",
        "\n",
        "## Ejercicios:\n",
        "#### 1. Operaciones con tres números:\n",
        "Pide al usuario que ingrese tres números y realiza una dos operaciones matemáticas diferentes, por último imprime el resultado:"
      ]
    },
    {
      "metadata": {
        "id": "EzXIf9qmAnnW",
        "colab_type": "code",
        "colab": {}
      },
      "cell_type": "code",
      "source": [
        "# recuerda que tu entrada siempre sera un string \n",
        "a = input(\"Ingrese un numero: \")\n",
        "b = input(\"Ingrese un numero: \")\n",
        "c = input(\"Ingrese un numero: \")\n",
        "\n",
        "d = 0 # aqui puedes guardar el resultado de tu operacion\n",
        "print(\"El resultado es: \", d)"
      ],
      "execution_count": 0,
      "outputs": []
    },
    {
      "metadata": {
        "id": "yuD0OEPcBR0A",
        "colab_type": "text"
      },
      "cell_type": "markdown",
      "source": [
        "#### 2. Halla el volumen de una esfera:\n",
        "Pide al usuario el radio de la esfera e imprime el volumen. La fórmula del volumen de una esfera es:\n",
        "$$v = \\frac{4}{3}{\\pi}r^3$$\n",
        "Puedes usar ${\\pi}$ = 3.14"
      ]
    },
    {
      "metadata": {
        "id": "c8FWgWalCsRA",
        "colab_type": "code",
        "colab": {}
      },
      "cell_type": "code",
      "source": [
        "# Escribe tu código aquí"
      ],
      "execution_count": 0,
      "outputs": []
    },
    {
      "metadata": {
        "id": "fESCyiUZHHSm",
        "colab_type": "text"
      },
      "cell_type": "markdown",
      "source": [
        "#### 3. Anterior y Siguiente:\n",
        "Escribe un programa que solicita un número al usuario e imprime el número anterior y el número siguiente elevados al cuadrado"
      ]
    },
    {
      "metadata": {
        "id": "e11I2YWUJRQU",
        "colab_type": "code",
        "colab": {}
      },
      "cell_type": "code",
      "source": [
        "# Escribe tu código aquí"
      ],
      "execution_count": 0,
      "outputs": []
    },
    {
      "metadata": {
        "id": "_99FFg-gC2R_",
        "colab_type": "text"
      },
      "cell_type": "markdown",
      "source": [
        "#### 4. Edad:\n",
        "Pide al usuario su nombre y su edad, y dile qué año será cuando cumplan 100 años"
      ]
    },
    {
      "metadata": {
        "id": "n7CwF3gdG6Ze",
        "colab_type": "code",
        "colab": {}
      },
      "cell_type": "code",
      "source": [
        "# Escribe tu código aquí"
      ],
      "execution_count": 0,
      "outputs": []
    },
    {
      "metadata": {
        "id": "GA2mgYkQQvBF",
        "colab_type": "text"
      },
      "cell_type": "markdown",
      "source": [
        "\n",
        "\n",
        "---\n",
        "\n",
        "## Desafío\n",
        "### Truco de Magia\n",
        "Imagina que pides al usuario que piense en un número de cinco dígitos, luego sigue estos pasos:\n",
        "1. Solicita al usuario los primeros tres números\n",
        "2. Multiplicalo por 80\n",
        "3. Sumale 1\n",
        "4. Multiplicale 250\n",
        "5. Solicita los últimos cuatro números \n",
        "6. Súmalo al resultado anterior\n",
        "7. Vuelve a sumarlo\n",
        "8. Réstale 250\n",
        "9. Dividelo por 2\n",
        "10. Muersta el resultado\n",
        "\n",
        "Al final del truco deberías conseguir los cinco dígitos solicitados! Ejemplo:\n",
        "\n",
        "Primeros tres: 972  |  Últimos cuatro: 5415  |  Imprimes: 9725415"
      ]
    },
    {
      "metadata": {
        "id": "l2LRMnm1Sk5e",
        "colab_type": "code",
        "outputId": "246c24a0-cc45-4ce7-c546-256f53ae99ae",
        "colab": {
          "base_uri": "https://localhost:8080/",
          "height": 69
        }
      },
      "cell_type": "code",
      "source": [
        "# Solucion\n",
        "head = int(input(\"Primeros tres: \"))\n",
        "cel = ((head * 80 )+1)*250\n",
        "tail = int(input(\"Ultimos cuatro: \"))\n",
        "cel += tail\n",
        "cel += tail\n",
        "cel -=250\n",
        "cel =cel/2\n",
        "print(cel)\n"
      ],
      "execution_count": 0,
      "outputs": [
        {
          "output_type": "stream",
          "text": [
            "Primeros tres: 855\n",
            "Ultimos cuatro: 4846\n",
            "8554846.0\n"
          ],
          "name": "stdout"
        }
      ]
    }
  ]
}