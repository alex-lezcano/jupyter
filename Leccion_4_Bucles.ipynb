{
  "nbformat": 4,
  "nbformat_minor": 0,
  "metadata": {
    "colab": {
      "name": "Leccion 4 - Bucles.ipynb",
      "version": "0.3.2",
      "provenance": []
    },
    "kernelspec": {
      "name": "python3",
      "display_name": "Python 3"
    }
  },
  "cells": [
    {
      "metadata": {
        "id": "s1bQefXFWOv7",
        "colab_type": "text"
      },
      "cell_type": "markdown",
      "source": [
        "# Lección 4: Bucles\n",
        "En la Lección 1 de la Fase 1 aprendimos cómo escribir algoritmos y cómo evitar la repetición excesiva de instrucciones, por ejemplo si teníamos un grupo de instrucciones como: \n",
        "`\"adelante, adelante, adelante, adelante\"` \n",
        "lo abreviabamos así: `\"repetir(adelante 6)\"`\n",
        "\n",
        "\n",
        "Además de eso, en los juegos que programaste tenías los bucles \"repetir\" en los que especificabas la cantidad de veces que querías que las instrucciones dentro del bloque sean ejecutadas.\n",
        "\n",
        "Debajo de todo este pseudocódigo se esconden los blucles **while** y **for** que se encargan de repetir instrucciones cuántas veces nosotros queramos.\n",
        "\n",
        "## Bucle While\n",
        "\"While\" en inglés significa \"mientras\", esto es porque todas las sentencias dentro del bucle while se ejecutan *mientras* la condición sea verdadera:\n",
        "\n",
        "\n",
        "```\n",
        "while condición:\n",
        "     bloque de sentencias\n",
        "```\n",
        "\n"
      ]
    },
    {
      "metadata": {
        "id": "w5CcdN8eZlqr",
        "colab_type": "code",
        "colab": {}
      },
      "cell_type": "code",
      "source": [
        "i = 1\n",
        "while i<=10:\n",
        "  print(i)\n",
        "  i+=1"
      ],
      "execution_count": 0,
      "outputs": []
    },
    {
      "metadata": {
        "id": "DFE6Mz5Faib8",
        "colab_type": "text"
      },
      "cell_type": "markdown",
      "source": [
        "¿Puedes adivinar cuántas veces se imprimirá $i$ sin ejecutar el código? \n",
        "\n",
        "Comenzamos con `i = 1`,  seguimos la ejecución del código donde nuestro `while` evalúa que la condición `1<=10` es  `True`, en consecuencia vamos a ejecutar el bloque de sentencias dentro del while: donde se imprime el valor de `i` y luego es aumentado con `i+=1`, ahora `i` vale `2` y todo el proceso se repite de nuevo hasta que tengamos `11 <= 10`  que devuelve False\n",
        "\n",
        "\n",
        "En el ejemplo de abajo pedimos al usuario que ingrese un número y utilizando un bucle while de cuántos dígitos esta compuesto, ejemplo:\n",
        "\n",
        "\n",
        "```\n",
        "n = 100\n",
        ">>> 100 tiene 3 dígitos\n",
        "-----------------------\n",
        "n = 15\n",
        ">>> 15 tiene 2 dígitos\n",
        "```\n",
        "\n"
      ]
    },
    {
      "metadata": {
        "id": "jBONz45Ac9pR",
        "colab_type": "code",
        "outputId": "b8cd169e-1a04-4e45-dc36-0340f241b829",
        "colab": {
          "base_uri": "https://localhost:8080/",
          "height": 52
        }
      },
      "cell_type": "code",
      "source": [
        "n = int(input()) \n",
        "m = n  # copio el valor de n, lo almaceno en m\n",
        "digitos = 0 # nuestro contador de digitos\n",
        "\n",
        "while n > 0: \n",
        "    n //= 10      # esto es equivalente a n = n // 10\n",
        "    # puedes sacar el comentario al print para ver como funciona: \n",
        "    # print(n) \n",
        "    digitos += 1\n",
        "    \n",
        "# luego de que termina el bucle sabemos cuantos \n",
        "# digitos tiene el numero ingresado\n",
        "print(m, \" tiene \", digitos, \" digitos \")  "
      ],
      "execution_count": 0,
      "outputs": [
        {
          "output_type": "stream",
          "text": [
            "985449265949594\n",
            "985449265949594  tiene  15  digitos \n"
          ],
          "name": "stdout"
        }
      ]
    },
    {
      "metadata": {
        "id": "m6CnbfVijQAK",
        "colab_type": "text"
      },
      "cell_type": "markdown",
      "source": [
        "## Bucle For\n",
        "For en inglé significa *por* o *para*, los bucles for toman un rango, lista u objeto, y realizan una acción *por* cada elemento dentro de ellos. Los bucles for son utilizados generamente cuando quieres repetir algo un número fijo de veces. "
      ]
    },
    {
      "metadata": {
        "id": "LeuqoquXrmWm",
        "colab_type": "code",
        "outputId": "056156c0-d119-43c2-92a0-a641adea4d6a",
        "colab": {
          "base_uri": "https://localhost:8080/",
          "height": 173
        }
      },
      "cell_type": "code",
      "source": [
        "for i in range(1, 10):\n",
        "  print(\"repetimos esto \", i, \"veces\")"
      ],
      "execution_count": 0,
      "outputs": [
        {
          "output_type": "stream",
          "text": [
            "repetimos esto  1 veces\n",
            "repetimos esto  2 veces\n",
            "repetimos esto  3 veces\n",
            "repetimos esto  4 veces\n",
            "repetimos esto  5 veces\n",
            "repetimos esto  6 veces\n",
            "repetimos esto  7 veces\n",
            "repetimos esto  8 veces\n",
            "repetimos esto  9 veces\n"
          ],
          "name": "stdout"
        }
      ]
    },
    {
      "metadata": {
        "id": "yS85BdBzvl2s",
        "colab_type": "text"
      },
      "cell_type": "markdown",
      "source": [
        "#### range(inicio,  final, paso)\n",
        "`range()` es una función de Python (al igual que print(), input() o max()), que crea una *secuencia o rango de números*. Aquí por ejemplo `range(1, 10)` crea un rango que empieza en 1 y termina en 9. Por lo general utilizamos range() para iterar en un bucle for.\n",
        "\n",
        "\n",
        "```\n",
        "inicio = inicio del rango, por defecto es 0\n",
        "final = hasta donde generar la secuencia, sin incluir este numero\n",
        "paso = que tanto incrementamos nuestra secuencia, por defecto es 1\n",
        "```\n",
        "\n"
      ]
    },
    {
      "metadata": {
        "id": "h_-MTzBJ0RMX",
        "colab_type": "code",
        "outputId": "948bdeb4-edc8-41ac-dea9-ab451ea45964",
        "colab": {
          "base_uri": "https://localhost:8080/",
          "height": 139
        }
      },
      "cell_type": "code",
      "source": [
        "cuenta = 0\n",
        "print(\"Esto se repite: \")\n",
        "\n",
        "for i in range(5):\n",
        "  cuenta+=1\n",
        "  print(cuenta)\n",
        "\n",
        "print(\"veces.\")  \n",
        "\n",
        "# Ya que no especificamos el valor de inicio, nuestro\n",
        "# rango empieza en 0 y termina en 5. Intenta imprimir \n",
        "# la i en lugar de cuenta y mira que pasa"
      ],
      "execution_count": 0,
      "outputs": [
        {
          "output_type": "stream",
          "text": [
            "Esto se repite: \n",
            "1\n",
            "2\n",
            "3\n",
            "4\n",
            "5\n",
            "veces.\n"
          ],
          "name": "stdout"
        }
      ]
    },
    {
      "metadata": {
        "id": "I9nP_JU-3ZqT",
        "colab_type": "text"
      },
      "cell_type": "markdown",
      "source": [
        "Podemos lograr lo mismo, sin utilizar la varibale cuenta, de esta manera:"
      ]
    },
    {
      "metadata": {
        "id": "ymmFe3F-3h3T",
        "colab_type": "code",
        "outputId": "c7657179-11d5-4998-c689-14e975a83f7f",
        "colab": {
          "base_uri": "https://localhost:8080/",
          "height": 139
        }
      },
      "cell_type": "code",
      "source": [
        "print(\"Esto se repite: \")\n",
        "for i in range(1,6):\n",
        "  print(i)\n",
        "print(\"veces.\")"
      ],
      "execution_count": 0,
      "outputs": [
        {
          "output_type": "stream",
          "text": [
            "Esto se repite: \n",
            "1\n",
            "2\n",
            "3\n",
            "4\n",
            "5\n",
            "veces.\n"
          ],
          "name": "stdout"
        }
      ]
    },
    {
      "metadata": {
        "id": "E3uenhZv1Jo6",
        "colab_type": "text"
      },
      "cell_type": "markdown",
      "source": [
        "También podemos especificar un salto en nuestro rango de la siguiente manera: "
      ]
    },
    {
      "metadata": {
        "id": "k_4huxZS1IHs",
        "colab_type": "code",
        "outputId": "6a2655c0-87f7-42c5-f24a-6d6a07ea9b52",
        "colab": {
          "base_uri": "https://localhost:8080/",
          "height": 208
        }
      },
      "cell_type": "code",
      "source": [
        "print(\"Tabla de multiplicar del 5: \")\n",
        "for i in range(5, 55, 5):\n",
        "  print(i)\n",
        "\n",
        "# inicio = 5\n",
        "# final = 55 sin incluirlo\n",
        "# paso = 5 se aumenta de 5 en 5\n",
        "# trata de hacer lo mismo para la tabla de multiplicar del 8"
      ],
      "execution_count": 0,
      "outputs": [
        {
          "output_type": "stream",
          "text": [
            "Tabla de multiplicar del 5: \n",
            "5\n",
            "10\n",
            "15\n",
            "20\n",
            "25\n",
            "30\n",
            "35\n",
            "40\n",
            "45\n",
            "50\n"
          ],
          "name": "stdout"
        }
      ]
    },
    {
      "metadata": {
        "id": "hUbAaaLasV8i",
        "colab_type": "text"
      },
      "cell_type": "markdown",
      "source": [
        "### Estructuras de Datos\n",
        "Una Estructura de Datos es algo que puede almacenar uno o más valores. Existen muchos tipos diferentes de Estructuras de Datos, entre las más utilizadas estan las Listas, los Arreglos , Tuplas, Diccionarios y Sets. \n",
        "\n",
        "#### Listas:\n",
        "Sintaxis:    \n",
        "```\n",
        "nombre_de_lista = [elemento1, elemento2, elemento3]\n",
        "```\n",
        "Las listas cuentan con índices para saber la ubicación de sus elementos, el índice empieza en 0 y continua hasta la cantidad de elementos menos uno:\n",
        "\n"
      ]
    },
    {
      "metadata": {
        "id": "vuOa9So5uCuZ",
        "colab_type": "code",
        "outputId": "0324c9cc-ebb7-4517-a80e-95375c30a86b",
        "colab": {
          "base_uri": "https://localhost:8080/",
          "height": 86
        }
      },
      "cell_type": "code",
      "source": [
        "frutas = [\"manzana\",\"papaya\", \"piña\"]\n",
        "print(\"Esta es mi lista de furtas: \",frutas)\n",
        "print(\"La primera fruta es mi lista es: \", frutas[0])\n",
        "\n",
        "# El ultimo elemento de nuestra lista esta en \n",
        "# el indice: cantidad de elementos - 1, en este caso esta en\n",
        "# frutas[2] \n",
        "print(\"La ultima fruta en mi lista es: \", frutas[len(frutas)-1])\n",
        "\n",
        "# La funcion len(lista) nos dice cuántos elementos hay en nuestra lista\n",
        "print(\"Tengo\", len(frutas),\"frutas en mi lista\")"
      ],
      "execution_count": 0,
      "outputs": [
        {
          "output_type": "stream",
          "text": [
            "Esta es mi lista de furtas:  ['manzana', 'papaya', 'piña']\n",
            "La primera fruta es mi lista es:  manzana\n",
            "La ultima fruta en mi lista es:  piña\n",
            "Tengo 3 frutas en mi lista\n"
          ],
          "name": "stdout"
        }
      ]
    },
    {
      "metadata": {
        "id": "r37P4a7duVUy",
        "colab_type": "text"
      },
      "cell_type": "markdown",
      "source": [
        "A esto le llamamos una  **lista**, porque podemos guardar una lista de valores, los bucles for nos ayudan a recorrer esta lista y acceder a sus valores de manera ordenada (es decir, primero la manzana, luego la papaya y por ultimo la piña)"
      ]
    },
    {
      "metadata": {
        "id": "4IbFh2zOusa4",
        "colab_type": "code",
        "outputId": "b3ba1fbd-ded1-4b5b-b9fc-1de03ea2fbf5",
        "colab": {
          "base_uri": "https://localhost:8080/",
          "height": 69
        }
      },
      "cell_type": "code",
      "source": [
        "frutas = [\"manzana\",\"papaya\", \"piña\"]\n",
        "\n",
        "for fruta in frutas:\n",
        "  print(\"La\", fruta, \"es mi fruta favorita\")"
      ],
      "execution_count": 0,
      "outputs": [
        {
          "output_type": "stream",
          "text": [
            "La manzana es mi fruta favorita\n",
            "La papaya es mi fruta favorita\n",
            "La piña es mi fruta favorita\n"
          ],
          "name": "stdout"
        }
      ]
    },
    {
      "metadata": {
        "id": "_eCJNJO8vMYF",
        "colab_type": "text"
      },
      "cell_type": "markdown",
      "source": [
        "Aquí podemos ver que en cada iteración, la variable \"fruta\" dentro del for toma el valor de un elemnto en nuestra lista, a esto nos referimos cuando decimos que el for itera dentro de los elementos de la lista. "
      ]
    },
    {
      "metadata": {
        "id": "UF_qzkB37NPJ",
        "colab_type": "code",
        "outputId": "1db61f14-74e2-432a-ae9d-9b546250d44c",
        "colab": {
          "base_uri": "https://localhost:8080/",
          "height": 86
        }
      },
      "cell_type": "code",
      "source": [
        "mascotas = [\"conejo\", \"perro\", \"gato\", \"tortuga\"]\n",
        "\n",
        "\n",
        "for i in range(4):\n",
        "  if i == 0:\n",
        "    print(\"mi mejor amigo tiene un\", mascotas[i], \"de mascota\")\n",
        "  \n",
        "  elif i == 1:\n",
        "    print(\"y yo tengo un\", mascotas[i])\n",
        "  \n",
        "  elif i == 2:\n",
        "    print(\"pero no tengo un\", mascotas[i])\n",
        " \n",
        "  else:\n",
        "    print(\"y siempre quise una\", mascotas[i] ,\"de mascota\")\n",
        "    \n",
        "  \n",
        "    \n",
        "# Otro ejemplo de como manipular los elementos de un arreglo\n",
        "# a traves de su indice. \n",
        "# Intenta cambiar los elemntos del arreglo y mira como se modifica\n",
        "# lo que imprimes"
      ],
      "execution_count": 0,
      "outputs": [
        {
          "output_type": "stream",
          "text": [
            "mi mejor amigo tiene un conejo de mascota\n",
            "y yo tengo un perro\n",
            "pero no tengo un gato\n",
            "y siempre quise una tortuga de mascota\n"
          ],
          "name": "stdout"
        }
      ]
    },
    {
      "metadata": {
        "id": "PoqjK0sgAMh3",
        "colab_type": "text"
      },
      "cell_type": "markdown",
      "source": [
        "También podemos modificar, agregar y sacar los elmentos de una lista:"
      ]
    },
    {
      "metadata": {
        "id": "uoIN_Xb6ATHB",
        "colab_type": "code",
        "outputId": "8e8f7a18-9de0-4557-b89f-4f296dbcf206",
        "colab": {
          "base_uri": "https://localhost:8080/",
          "height": 225
        }
      },
      "cell_type": "code",
      "source": [
        "# cantidad de elementos que van a almacenare en la lista\n",
        "cant =int(input(\"Cuantas peliculas quieres que tenga tu lista?: \"))\n",
        "\n",
        "# creamos una lista vacia al inicio\n",
        "peliculas = [] \n",
        "\n",
        "# usamos un for para rellenar nuestra lista con la cantidad especificada\n",
        "for i in range(0, cant):\n",
        "  pelicula = input(\"Escribe el nombre de una peli para agregarla a la lista: \")\n",
        "  \n",
        "  # el metodo append agrega un elemento al final de la lista\n",
        "  peliculas.append(pelicula)\n",
        "  \n",
        "print(\"Tu lista de peliculas es: \", peliculas)\n",
        "\n",
        "print(\"-------\")\n",
        "print(\"Ahora vamos a eliminar una de tus peliculas de la lista\")\n",
        "eliminar = int(input(\"ingresa el indice de la peli que sera eliminada: \"))\n",
        "\n",
        "if(eliminar >= cant):\n",
        "  # recuerda que el indice de una lista empieza en 0 y termina en cantidad de \n",
        "  # elementos menos uno. Para no tener un error creamos este if\n",
        "  print(\"El indice esta fuera del rango de tus peliculas\")\n",
        "  print(\"no puede ser mayor o igual a tu cantida de peliculas\")\n",
        "\n",
        "  # si el indice de la pelicula a ser eliminada es correcto podemos proceder\n",
        "  # a sacarla de la lista\n",
        "else: \n",
        "  # guardamos el nombre de la peli que vamos a eliminar en una variable, \n",
        "  # para despues poder decirle a usuario que pelicula se elimino\n",
        "  p_eliminada = peliculas[eliminar]\n",
        "  \n",
        "  # el metodo pop() se encarga de sacar un elemento de la lista en el indice\n",
        "  # especificado\n",
        "  peliculas.pop(eliminar)\n",
        "  \n",
        "  # informamos al usuario el nombre de la peli eliminada y en que indice estaba\n",
        "  print(\"La pelicula\",p_eliminada ,\"en el indice:\", eliminar, \"fue eliminada\")\n",
        "  \n",
        "  # mostramos la nueva lista\n",
        "  print(\"Tu nueva lista de peliculas es:\", peliculas)\n"
      ],
      "execution_count": 0,
      "outputs": [
        {
          "output_type": "stream",
          "text": [
            "Cuantas peliculas quieres que tenga tu lista?: 5\n",
            "Escribe el nombre de una peli para agregarla a la lista: p1\n",
            "Escribe el nombre de una peli para agregarla a la lista: p2\n",
            "Escribe el nombre de una peli para agregarla a la lista: p3\n",
            "Escribe el nombre de una peli para agregarla a la lista: p4\n",
            "Escribe el nombre de una peli para agregarla a la lista: p5\n",
            "Tu lista de pelicuas es:  ['p1', 'p2', 'p3', 'p4', 'p5']\n",
            "-------\n",
            "Ahora vamos a eliminar una de tus peliculas de la lista\n",
            "ingresa el indice de la peli que sera eliminada: 3\n",
            "La pelicula p4 en el indice: 3 fue eliminada\n",
            "Tu nueva lista de peliculas es: ['p1', 'p2', 'p3', 'p5']\n"
          ],
          "name": "stdout"
        }
      ]
    },
    {
      "metadata": {
        "id": "fGJO9xnUcaDK",
        "colab_type": "text"
      },
      "cell_type": "markdown",
      "source": [
        "Para modificar un elemento en una lista debemos saber el índice en el que está, y luego reasignarle un nuevo valor:"
      ]
    },
    {
      "metadata": {
        "id": "TyXnasC4civ7",
        "colab_type": "code",
        "outputId": "1201ff6d-ce60-40ad-fb0f-441782d853ae",
        "colab": {
          "base_uri": "https://localhost:8080/",
          "height": 69
        }
      },
      "cell_type": "code",
      "source": [
        "colores = [\"rojo\", \"naranja\", \"amarillo\", \"verde\"]\n",
        "print(\"La lista original de colores es: \", colores)\n",
        "\n",
        "nuevo_color = input(\"Color para modificar el ultimo elemento de la lista: \")\n",
        "colores[3] = nuevo_color\n",
        "print(\"La lista modificada es: \", colores)"
      ],
      "execution_count": 0,
      "outputs": [
        {
          "output_type": "stream",
          "text": [
            "La lista original de colores es:  ['rojo', 'naranja', 'amarillo', 'verde']\n",
            "Color para modificar el ultimo elemento de la lista: azul\n",
            "La lista modificada es:  ['rojo', 'naranja', 'amarillo', 'azul']\n"
          ],
          "name": "stdout"
        }
      ]
    },
    {
      "metadata": {
        "id": "TB1QzGNxIJGx",
        "colab_type": "text"
      },
      "cell_type": "markdown",
      "source": [
        "Analiza atentamente qué sucede en el bloque de código de más arriba, introducimos dos nuevas funciones para nuestra lista: \n",
        "\n",
        "\n",
        "```\n",
        "append(elemento) : agrega un elemento al final de la lista\n",
        "pop(indice_del_elemento) : elimina  el elemento en el indice especificado\n",
        "```\n",
        "Otros métodos de las listas son:\n",
        "\n",
        "| Método |Sintaxis| Descripción   | \n",
        "|------|------|-----|\n",
        "|  clear()   | lista.clear() |Elimina todos los elementos de la lista | \n",
        "|  copy()  |lista.copy() |Devuelve una copia de la lista  | \n",
        "|  count(\"elemento\")| lita.count(\"elemento\")| Devuelve una cuenta de la cantidad de elementos especificados  | \n",
        "|  extend() | lista.extend(otra_lista)| Agrega los elementos de la otra_lista al final de la lista. La otra_lista puede ser cualquier iterable | \n",
        "|index(\"elemento\")|lista.index(\"elemento\")|Devuelve el indice del elemento especificado|\n",
        "|remove(\"elemento\")|lista.remove(\"elemento\")|Elimina el elemento especificado|\n",
        "|reverse()|lista.reverse()|Invierte el orden de la lista|\n",
        "|sort()|lista.sort()|Arregla la lista los elementos de la lista en orden ascendente|\n",
        "\n",
        "\n",
        "## Ejercicios\n",
        "\n",
        "*en proceso*"
      ]
    },
    {
      "metadata": {
        "id": "qTmFx4rtbRhn",
        "colab_type": "code",
        "colab": {}
      },
      "cell_type": "code",
      "source": [
        ""
      ],
      "execution_count": 0,
      "outputs": []
    }
  ]
}