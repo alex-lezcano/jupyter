{
 "cells": [
  {
   "cell_type": "markdown",
   "metadata": {},
   "source": [
    "# Lección 2: Hola Mundo!\n",
    "Python es un lenguaje bastante simple con una sintaxis muy sencilla. La directiva más simple en Python es \"print\" que simplemente imprime algo en la pantalla. Dale click en ejecutar al código de abajo para imprimir el mensaje!\n"
   ]
  },
  {
   "cell_type": "code",
   "execution_count": null,
   "metadata": {},
   "outputs": [],
   "source": [
    "print(\"Hola Mundo!\")"
   ]
  },
  {
   "cell_type": "markdown",
   "metadata": {},
   "source": [
    "## Tipos de Datos\n",
    "### String\n",
    "Un string o cadena es una serie de letras, números o símbolos concatenados. Los strings o cadenas pueden ser definidos de varias maneras:\n"
   ]
  },
  {
   "cell_type": "code",
   "execution_count": null,
   "metadata": {},
   "outputs": [],
   "source": [
    "print(\"Soy una cadena\")\n",
    "print('También yo')\n",
    "print(\"Puedes unir dos string\"+\" de esta manera\")\n"
   ]
  },
  {
   "cell_type": "markdown",
   "metadata": {},
   "source": [
    "#### Manejando Errores\n",
    "Mientras aprendemos a programar en Pyhton, nos encontraremos con errores y excepciones, esto pasa cuando Python no entiende lo que nosotros queremos hacer. Es un buen habito leer, traducir y entender las excepciones para poder solucionarlos. Estos son algunos errores comunes al imprimir cadenas, puedes encontrarlos?"
   ]
  },
  {
   "cell_type": "code",
   "execution_count": null,
   "metadata": {},
   "outputs": [],
   "source": [
    "print(\"Salimos a comer helado')"
   ]
  },
  {
   "cell_type": "markdown",
   "metadata": {},
   "source": [
    "Si ejecutas el código de arriba verás este error \"SyntaxError: EOL while scanning string literal\" Pyhton esto quiere decir que Python estaba leyendo el string cuando repentinamente llega al final de la línea o en inglés \"End Of Line\". Esto pasó porque empezamos nuestra cadena con comillas dobles y la terminamos con comillas simples! "
   ]
  },
  {
   "cell_type": "code",
   "execution_count": null,
   "metadata": {},
   "outputs": [],
   "source": [
    "print(Hizo mucho calor hoy)"
   ]
  },
  {
   "cell_type": "markdown",
   "metadata": {},
   "source": [
    "Ahora esta sentencia nos tira un error \"SyntaxError: invalid syntax\" La sintaxis es inválida porque el tipo de dato String debe estar entre comillas siempre!\n",
    "\n",
    "### Números"
   ]
  },
  {
   "cell_type": "code",
   "execution_count": null,
   "metadata": {},
   "outputs": [],
   "source": []
  }
 ],
 "metadata": {
  "kernelspec": {
   "display_name": "Python 2",
   "language": "python",
   "name": "python2"
  },
  "language_info": {
   "codemirror_mode": {
    "name": "ipython",
    "version": 2
   },
   "file_extension": ".py",
   "mimetype": "text/x-python",
   "name": "python",
   "nbconvert_exporter": "python",
   "pygments_lexer": "ipython2",
   "version": "2.7.15"
  }
 },
 "nbformat": 4,
 "nbformat_minor": 2
}
