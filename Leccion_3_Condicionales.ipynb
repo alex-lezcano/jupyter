{
  "nbformat": 4,
  "nbformat_minor": 0,
  "metadata": {
    "colab": {
      "name": "Leccion 3 - Condicionales.ipynb",
      "version": "0.3.2",
      "provenance": []
    },
    "kernelspec": {
      "name": "python3",
      "display_name": "Python 3"
    }
  },
  "cells": [
    {
      "metadata": {
        "id": "4IHuuqdi5Hfa",
        "colab_type": "text"
      },
      "cell_type": "markdown",
      "source": [
        "#Lección 3: Condicionales\n",
        "En la Lección 2 de la Fase 1 vimos el concepto de condicionales, en esta lección veremos a fondo cómo implementar esos conceptos aprendidos!\n",
        "\n",
        "##El Tipo Booleano\n",
        "Para entender mejor como son evaluadas nuestras condiciones, vamos a ver un nuevo tipo de dato: el tipo **Booleano**. Este tipo de dato puede contener solo dos valores: True(verdadero) o False(falso). Muchas funcions y operadores devuelven un valor booleano, True o False, las condicionales utilizan estas respuestas para decidir qué decisión tomar, \n",
        "\n",
        "*Los valores True y False se escriben siempre en mayúsculas*\n",
        "\n",
        "###Operadores Relacionales:\n",
        "Si te pregunto ¿Es 2 es menor o igual a 1 (2<=1)? Me vas a decir que no, pues de la misma manera, si le hago esa misma pregunta a python, me va a responder con un tipo booleano **False** (falso en español), porque esa es su manera de decirme que no. A los operadores que comparan dos valores les llamamos Operadores Relacionales, estos son:\n",
        "\n",
        "\n",
        "| Operador | Descripción   | Sintaxis|\n",
        "|------|------|-----|\n",
        "|  >   | Mayor que: Verdadero si x es mayor a y | x > y|\n",
        "|  <   | Menor que: Verdadero si  si x es menor a y  | x < y|\n",
        "|  ==   | Igua a: Verdadero si ambos operandos son iguales  | x == y|\n",
        "|  !=   |  No igual a: Verdadero si los operandos no son iguales  | x != y|\n",
        "|  >=   | Mayor que o igual a: Verdadero  si x es mayor o igual a y  | x >= y|\n",
        "|  <=   | Menor que o igual a: Verdadero  si x es menor o igual a y  | x <= y|\n",
        "\n"
      ]
    },
    {
      "metadata": {
        "id": "N-MkMQgq-swI",
        "colab_type": "code",
        "colab": {}
      },
      "cell_type": "code",
      "source": [
        "print(5>3) # imprime True porque 5 es mayor a 3\n",
        "print(6!=6) # imprime False porque 6 e igual a 6"
      ],
      "execution_count": 0,
      "outputs": []
    },
    {
      "metadata": {
        "id": "V1VonGbh-o-R",
        "colab_type": "text"
      },
      "cell_type": "markdown",
      "source": [
        "###Operadores Lógicos: \n",
        "Además de los Operadores Relacionales, tenemos los Operadores Lógicos, estos operadores evalúan dos tipos booleanos, por ejemplo, si tenemos que:\n",
        "\n"
      ]
    },
    {
      "metadata": {
        "id": "LtaTzcceEwOy",
        "colab_type": "code",
        "colab": {}
      },
      "cell_type": "code",
      "source": [
        "a= True\n",
        "b= False\n",
        "print(a and b)"
      ],
      "execution_count": 0,
      "outputs": []
    },
    {
      "metadata": {
        "id": "YHmZN15xFCtc",
        "colab_type": "text"
      },
      "cell_type": "markdown",
      "source": [
        "Al ejecutar el código de arriba podemos ver que `a and b` retornan `False`. Esto es porque `and` es un operador lógico que retorna `True` solamente cuando a y b son `True`, intenta cambiar el valor de b por `True` y mira qué se imprime. \n",
        "\n",
        "Esta es la lista de operadores lógicos:\n",
        "\n",
        "| Operador | Descripción   | Sintaxis|\n",
        "|------|------|-----|\n",
        "|  and   | & (y lógico): Verdadero únicamente si x e y son verdaderos | x and y|\n",
        "|  or   | v (o lógico): Verdadero si x o y son verdaderos, de lo contrario retorna False | x or y|\n",
        "|  not   | ¬ negación lógica): Invierte el valor booleano de x| not x|"
      ]
    },
    {
      "metadata": {
        "id": "gg5vqgcLTA1Y",
        "colab_type": "code",
        "outputId": "79bd31e2-3cb2-4b99-de52-f3925cf9be1d",
        "colab": {
          "base_uri": "https://localhost:8080/",
          "height": 51
        }
      },
      "cell_type": "code",
      "source": [
        "# (0>=1) es False, y not(False) es True, por lo tanto se imprime True\n",
        "print(not(0>=1)) \n",
        "\n",
        "# imprime True porque ambas condiciones son verdaderas \n",
        "print((8<=9)and(3>=2))"
      ],
      "execution_count": 0,
      "outputs": [
        {
          "output_type": "stream",
          "text": [
            "True\n",
            "True\n"
          ],
          "name": "stdout"
        }
      ]
    },
    {
      "metadata": {
        "id": "al3dHvIsaZeN",
        "colab_type": "text"
      },
      "cell_type": "markdown",
      "source": [
        "\n",
        "##Sintaxis de una Condicional\n",
        "\n",
        "```\n",
        "if condición:\n",
        "    bloque de código del if, se ejecuta si la condicion es True. \n",
        "    Por convención los bloques de código siempre van identados \n",
        "    con cuatro espacios en blanco.\n",
        " elif condición2:\n",
        "    bloque de código del elif, se ejecuta si la condicion es True\n",
        "else:\n",
        "    bloque de código del else, se ejecuta si todas las condiciones anteriores son False\n",
        "```\n",
        "\n",
        "Si analizamos nuestra sintaxis podemos ver que el significado de:\n",
        "\n",
        "```\n",
        "if >> si           # Inicio de la condicional\n",
        "elif >> sino si    # Evaluamos una segunda condicion\n",
        "else >> sino       # Ejecutamos esto si las condiciones anteriores fueron False\n",
        "```\n",
        "\n",
        "###Bloques\n",
        "Una parte importante de la sintaxis de Python es la identación.  La indentación se utiliza para delimitar bloques de código dentro de un condicional, ciclo, función, etc., sin necesidad de utilizar caracteres delimitadores como ocurre en otros lenguajes de programación. \n",
        "\n",
        "\n"
      ]
    },
    {
      "metadata": {
        "colab_type": "code",
        "outputId": "6f740738-1417-43fe-e0f7-187fb168bc87",
        "id": "TKtmpnRyXeRF",
        "colab": {
          "base_uri": "https://localhost:8080/",
          "height": 86
        }
      },
      "cell_type": "code",
      "source": [
        "# Podemos escribir un programa que pida un numero del 0 al 10\n",
        "# y que compruebe que ese numero este en dicho rango\n",
        "numero = int(input(\"Ingresa un numero del 0 al 10 \"))\n",
        "if numero >= 0 and numero <=10:\n",
        "  print(\"El numero esta dentro del rango\")\n",
        "else:\n",
        "  print(\"El numero esta fuera del rango\")\n",
        "\n",
        "print(\"--------------------------------------------------\")\n",
        "# Podemos comprobar que el numero sea mayor a 3, a 5 o 8 con otra condicional\n",
        "if numero >= 8:\n",
        "  print(\"Numero mayor o igual a 8\")\n",
        "elif numero >= 5:\n",
        "  print(\"Numero mayor o igual a 5\")\n",
        "elif numero >= 3:\n",
        "  print(\"Numero mayor o igual a 3\")\n",
        "else:\n",
        "  print(\"Numero menor a 3\")"
      ],
      "execution_count": 0,
      "outputs": [
        {
          "output_type": "stream",
          "text": [
            "Ingresa un numero del 0 al 10 2\n",
            "El numero esta dentro del rango\n",
            "--------------------------------------------------\n",
            "Numero menor a 3\n"
          ],
          "name": "stdout"
        }
      ]
    },
    {
      "metadata": {
        "id": "QInNErIcVYEC",
        "colab_type": "text"
      },
      "cell_type": "markdown",
      "source": [
        "###Condiciones Anidadas\n",
        "Tus bloques pueden ser tan complejos como tú lo desees, por ejemplo podemos tener condicionales dentro de nuestros bloques:"
      ]
    },
    {
      "metadata": {
        "id": "-sj1NisfdDv-",
        "colab_type": "code",
        "colab": {}
      },
      "cell_type": "code",
      "source": [
        "\n",
        "### Otro ejemplo:\n",
        "numero = int(input(\"Ingresa un numero del -10 al 10 \"))\n",
        "\n",
        "if numero <= 0 and numero >= -10:        # es un numero entre -10 y 0\n",
        "  print(\"Ingresaste un numero negativo\")\n",
        "  \n",
        "  if numero <= -5:                       # es un numero entre -10 y -5\n",
        "    print(\"que es menor o igual a -5\")\n",
        "  else:\n",
        "    print(\"que es mayor a -5\")           # es un numero entre -5 y 0\n",
        "    \n",
        "elif numero >= 0 and numero <=10:        # es un numero entre 0 y 10\n",
        "  print(\"Ingresaste un numero positivo\")\n",
        "  \n",
        "  if numero >= 5:                        # es un numero entre 5 y 10\n",
        "    print(\"que es mayor o igual 5\")\n",
        "  else:\n",
        "    print(\"que es menor a 5\")            # es un numero entre 0 y 5\n",
        "    \n",
        "else:\n",
        "  # entro al else si pongo un numero fuera del rango de -10 y 10\n",
        "  print(\"Ingresaste un numero fuera del rango.\") "
      ],
      "execution_count": 0,
      "outputs": []
    },
    {
      "metadata": {
        "id": "8z1Urd9Xg-d8",
        "colab_type": "text"
      },
      "cell_type": "markdown",
      "source": [
        "Aqui puedes ver como en:\n",
        "```\n",
        "if numero <= 0 and numero >= -10:\n",
        "```\n",
        "Evaluamos que el número ingresado sea menor a 0 y **(and)** mayor a -10, para saber que ingresamos un numero negativo entre -10 y 0. Luego dentro de ese bloque, preguntamos si el número es menor o igual a -5, esta es una condicional anidada!\n",
        "\n",
        "##Ejercicios\n",
        "####1. Clasificador de números\n",
        "Pide un número al usuario, si es positivo imprime 1, si es negativo -1 y si 0 si es igual a 0\n"
      ]
    },
    {
      "metadata": {
        "id": "IipZ1O8cuTRl",
        "colab_type": "code",
        "outputId": "32aec8f9-ce71-481d-bec8-8c8e4f530821",
        "colab": {
          "base_uri": "https://localhost:8080/",
          "height": 52
        }
      },
      "cell_type": "code",
      "source": [
        "n = int(input(\"Ingresa un numero: \"))\n",
        "if(n == 0):\n",
        "  print(0)\n",
        "elif(n > 0):\n",
        "  print(1)\n",
        "else:\n",
        "  print(-1)"
      ],
      "execution_count": 0,
      "outputs": [
        {
          "output_type": "stream",
          "text": [
            "Ingresa un numero: 10\n",
            "1\n"
          ],
          "name": "stdout"
        }
      ]
    },
    {
      "metadata": {
        "id": "jLAXLLBfvBZw",
        "colab_type": "text"
      },
      "cell_type": "markdown",
      "source": [
        "####2. El menor número:\n",
        "Pide dos números al usuario, luego imprime el más pequeño"
      ]
    },
    {
      "metadata": {
        "id": "B4aiTsQRlu_Y",
        "colab_type": "code",
        "colab": {}
      },
      "cell_type": "code",
      "source": [
        "# Escribe tu codigo aqui\n",
        "a = int(input(\"Ingresa un numero: \"))\n",
        "b = int(input(\"Ingresa un numero: \"))\n",
        "\n",
        "if(a > b):\n",
        "  print(b)\n",
        "else: \n",
        "  print(a)"
      ],
      "execution_count": 0,
      "outputs": []
    },
    {
      "metadata": {
        "id": "zq3BRpqYlyio",
        "colab_type": "text"
      },
      "cell_type": "markdown",
      "source": [
        "####3. El menor número par:\n",
        "Lo mismo que el ejercicio anterior, solo que ahora debes imprimirlo solamente si es un numero par, si no lo es, debes imprimir el numero, acompañado de la frase \"no es par\". Por ejemplo si a = 77 y b = 100, imprimes \"77 no es un numero par\" \n"
      ]
    },
    {
      "metadata": {
        "id": "3gZmyfZ-mXao",
        "colab_type": "code",
        "colab": {}
      },
      "cell_type": "code",
      "source": [
        "# Escribe tu codigo aqui\n",
        "a = int(input(\"Ingresa un numero: \"))\n",
        "b = int(input(\"Ingresa un numero: \"))\n",
        "\n",
        "if(a > b):\n",
        "  if(b%2 == 0):\n",
        "    print(b)\n",
        "  else:\n",
        "    print(b, \" no es un numero par\")\n",
        "else: \n",
        "  if(a%2 == 0):\n",
        "    print(a)\n",
        "  else: \n",
        "    print(a, \" no es un numero par\")"
      ],
      "execution_count": 0,
      "outputs": []
    },
    {
      "metadata": {
        "id": "1hmVWAgxocmF",
        "colab_type": "text"
      },
      "cell_type": "markdown",
      "source": [
        "####4. El mayor número impar:\n",
        "Vamos a utilizar la función de python `max(a,b)` puedes ver como funciona en el siguiente ejemplo:"
      ]
    },
    {
      "metadata": {
        "id": "cDEA00XHp-j2",
        "colab_type": "code",
        "colab": {}
      },
      "cell_type": "code",
      "source": [
        "print(max(2, 5))"
      ],
      "execution_count": 0,
      "outputs": []
    },
    {
      "metadata": {
        "id": "JIX9bwlIqa2N",
        "colab_type": "text"
      },
      "cell_type": "markdown",
      "source": [
        "Pide al usuario dos números, usando la función max halla el mayor entre ellos y luego si es impar halla un número par menor más cercano, si es par halla el número impar mayor más cercano. Por ejemplo : \n",
        "\n",
        "\n",
        "```\n",
        "a = 5\n",
        "b = 9\n",
        "\n",
        ">>> 9 es impar\n",
        ">>> 8 es el numero par menor a 9\n",
        "\n",
        "----------------------------------------\n",
        "x = 10\n",
        "y = 6\n",
        "\n",
        ">>> 10 es par\n",
        ">>> 11 es el numero impar mayor a 10\n",
        "```\n",
        "\n"
      ]
    },
    {
      "metadata": {
        "id": "p9P6raSSr88z",
        "colab_type": "code",
        "colab": {}
      },
      "cell_type": "code",
      "source": [
        "a = int(input(\"Ingresa un numero: \"))\n",
        "b = int(input(\"Ingresa un numero: \"))\n",
        "\n",
        "c = max(a,b)\n",
        "\n",
        "if(c%2!=0):\n",
        "  print(c, \"es impar\")\n",
        "  print(c-1, \"es el numero par menor a \", c)\n",
        "else: \n",
        "  print(c, \"es par\")\n",
        "  print(c+1, \"es el numero impar mayor a \", c)"
      ],
      "execution_count": 0,
      "outputs": []
    },
    {
      "metadata": {
        "id": "e_jRYgisvTr_",
        "colab_type": "text"
      },
      "cell_type": "markdown",
      "source": [
        "####5. Número Iguales\n",
        "Dados tres números, determina cuántos de ellos son iguales, ejemplo:\n",
        "\n",
        "```\n",
        "a = 1\n",
        "b = 100 \n",
        "c = -66\n",
        ">>> 0 numeros iguales\n",
        "-------------------------------\n",
        "a = 25\n",
        "b = 48\n",
        "c = 25\n",
        ">>> 2 numeros iguales\n",
        "-------------------------------\n",
        "a = 8\n",
        "b = 8 \n",
        "c = 8\n",
        ">>> 3 numeros iguales\n",
        "```"
      ]
    },
    {
      "metadata": {
        "id": "XikPk1X9wdxs",
        "colab_type": "code",
        "colab": {}
      },
      "cell_type": "code",
      "source": [
        "a = int(input(\"Ingresa un numero: \"))\n",
        "b = int(input(\"Ingresa un numero: \"))\n",
        "c = int(input(\"Ingresa un numero: \"))\n",
        "\n",
        "if(a!=b and a!=c and b!=c):\n",
        "  print(0)\n",
        "elif(a==b and a==c and b==c):\n",
        "  print(3)\n",
        "else:\n",
        "  print(2)"
      ],
      "execution_count": 0,
      "outputs": []
    },
    {
      "metadata": {
        "id": "LsnPC11HM3Qr",
        "colab_type": "text"
      },
      "cell_type": "markdown",
      "source": [
        "##Desafío\n",
        "Una barra de chocolate tiene la forma de un rectángulo con $nxm$ porciones. Esta se puede dividir en dos partes rectangulares rompiéndola a lo largo de una línea recta en su patrón. Determine si es posible dividirlo para que una de las partes tenga exactamente k cuadrados.\n",
        "\n",
        "\n",
        "El programa pide tres números: n, m y k. Debe imprimir \"Si\" o \"No\""
      ]
    },
    {
      "metadata": {
        "id": "ip1YB_aaOO5h",
        "colab_type": "code",
        "colab": {}
      },
      "cell_type": "code",
      "source": [
        "m = int(input(\"Ingresa un numero: \"))\n",
        "n = int(input(\"Ingresa un numero: \"))\n",
        "k = int(input(\"Ingresa un numero: \"))\n",
        "\n",
        "if (k%n == 0 and k/n < m) or (k%m == 0 and k/m < n):\n",
        "    print('Si')\n",
        "else:\n",
        "    print('No')\n",
        "    "
      ],
      "execution_count": 0,
      "outputs": []
    }
  ]
}